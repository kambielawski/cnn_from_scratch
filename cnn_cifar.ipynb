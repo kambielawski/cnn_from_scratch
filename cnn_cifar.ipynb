{
 "cells": [
  {
   "cell_type": "code",
   "execution_count": 1,
   "id": "african-diagram",
   "metadata": {},
   "outputs": [],
   "source": [
    "import numpy as np\n",
    "import pandas as pd\n",
    "import matplotlib.pyplot as plt\n",
    "import pickle"
   ]
  },
  {
   "cell_type": "code",
   "execution_count": 2,
   "id": "basic-skating",
   "metadata": {},
   "outputs": [
    {
     "name": "stdout",
     "output_type": "stream",
     "text": [
      "dict_keys([b'batch_label', b'labels', b'data', b'filenames'])\n",
      "[ 59  43  50 ... 140  84  72]\n"
     ]
    }
   ],
   "source": [
    "with open('./cifar-10-batches-py/data_batch_1', 'rb') as fo:\n",
    "    d = pickle.load(fo, encoding='bytes')\n",
    "\n",
    "print(d.keys())\n",
    "data = d[b'data']\n",
    "labels = d[b'labels']\n",
    "print(data[0])"
   ]
  },
  {
   "cell_type": "code",
   "execution_count": 3,
   "id": "conscious-router",
   "metadata": {},
   "outputs": [],
   "source": [
    "# takes 1D array of pixel data and converts to MxNx3 RGB format\n",
    "def reshape_img(pixeldata, m, n):\n",
    "    return np.rot90(pixeldata.reshape((m, n, 3), order='F'), 3)"
   ]
  },
  {
   "cell_type": "code",
   "execution_count": 4,
   "id": "unsigned-bloom",
   "metadata": {},
   "outputs": [],
   "source": [
    "image_data = [reshape_img(img, 32, 32) for img in data]"
   ]
  },
  {
   "cell_type": "code",
   "execution_count": 15,
   "id": "growing-cricket",
   "metadata": {},
   "outputs": [],
   "source": [
    "label_strs = ['airplane', 'automobile', 'bird', 'cat', 'deer', 'dog', 'frog', 'horse', 'ship', 'truck']\n",
    "def class_str(class_index):\n",
    "    return label_strs[class_index]"
   ]
  },
  {
   "cell_type": "code",
   "execution_count": 17,
   "id": "literary-uruguay",
   "metadata": {},
   "outputs": [
    {
     "data": {
      "image/png": "[encoded data removed]",
      "text/plain": [
       "<Figure size 432x288 with 1 Axes>"
      ]
     },
     "metadata": {
      "needs_background": "light"
     },
     "output_type": "display_data"
    }
   ],
   "source": [
    "def display(index):\n",
    "    fig = plt.figure()\n",
    "    ax = fig.add_subplot(1,1,1)\n",
    "    ax.set_title(class_str(labels[index]))\n",
    "    plt.imshow(image_data[index])\n",
    "    plt.show()\n",
    "\n",
    "display(3)"
   ]
  },
  {
   "cell_type": "code",
   "execution_count": 94,
   "id": "first-pipeline",
   "metadata": {},
   "outputs": [],
   "source": [
    "# great, so now we have our image data in a good format. \n",
    "\n",
    "# let's first try to make a CNN layer"
   ]
  },
  {
   "cell_type": "code",
   "execution_count": null,
   "id": "plastic-lecture",
   "metadata": {},
   "outputs": [],
   "source": []
  }
 ],
 "metadata": {
  "kernelspec": {
   "display_name": "cnn",
   "language": "python",
   "name": "cnn"
  },
  "language_info": {
   "codemirror_mode": {
    "name": "ipython",
    "version": 3
   },
   "file_extension": ".py",
   "mimetype": "text/x-python",
   "name": "python",
   "nbconvert_exporter": "python",
   "pygments_lexer": "ipython3",
   "version": "3.8.5"
  }
 },
 "nbformat": 4,
 "nbformat_minor": 5
}
